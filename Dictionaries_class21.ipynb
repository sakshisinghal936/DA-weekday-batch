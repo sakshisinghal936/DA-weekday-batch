{
  "nbformat": 4,
  "nbformat_minor": 0,
  "metadata": {
    "colab": {
      "provenance": [],
      "authorship_tag": "ABX9TyPIpw07/EtH9/YCDtcDBkyG",
      "include_colab_link": true
    },
    "kernelspec": {
      "name": "python3",
      "display_name": "Python 3"
    },
    "language_info": {
      "name": "python"
    }
  },
  "cells": [
    {
      "cell_type": "markdown",
      "metadata": {
        "id": "view-in-github",
        "colab_type": "text"
      },
      "source": [
        "<a href=\"https://colab.research.google.com/github/sakshisinghal936/DA-weekday-batch/blob/main/Dictionaries_class21.ipynb\" target=\"_parent\"><img src=\"https://colab.research.google.com/assets/colab-badge.svg\" alt=\"Open In Colab\"/></a>"
      ]
    },
    {
      "cell_type": "markdown",
      "source": [
        "### 1. Lists vs Dictionary"
      ],
      "metadata": {
        "id": "TqL0ORxMzchl"
      }
    },
    {
      "cell_type": "code",
      "execution_count": null,
      "metadata": {
        "id": "J8zKWl2_xen8"
      },
      "outputs": [],
      "source": [
        "user1 = [1, \"Sakshi\", 68,70, 75,432924650]\n",
        "user2 ="
      ]
    },
    {
      "cell_type": "code",
      "source": [
        "lst = [[1, \"Sakshi\", 68,70, 75,432924650], [ 2, \"Avneet\", 59,72,85,7236598]]\n",
        "lst[1][5]"
      ],
      "metadata": {
        "id": "mLigCEM9zzbT"
      },
      "execution_count": null,
      "outputs": []
    },
    {
      "cell_type": "code",
      "source": [
        "dct = {1:\"Sakshi\",2: \"Avneet\", 3: \"Riya\", 4: 23, \"a\":\"Aman\", False: \"23\", True: \"22\", 1: \"Arya\"}\n",
        "dct"
      ],
      "metadata": {
        "colab": {
          "base_uri": "https://localhost:8080/"
        },
        "id": "uBIRG117So9o",
        "outputId": "40296917-1625-4efe-fc7c-1b429986b839"
      },
      "execution_count": 7,
      "outputs": [
        {
          "output_type": "execute_result",
          "data": {
            "text/plain": [
              "{1: 'Arya', 2: 'Avneet', 3: 'Riya', 4: 23, 'a': 'Aman', False: '23'}"
            ]
          },
          "metadata": {},
          "execution_count": 7
        }
      ]
    },
    {
      "cell_type": "code",
      "source": [
        "len(dct)"
      ],
      "metadata": {
        "colab": {
          "base_uri": "https://localhost:8080/"
        },
        "id": "ObTo38TqTy20",
        "outputId": "f28304e6-991a-44ce-9a69-67c46dce6e73"
      },
      "execution_count": 8,
      "outputs": [
        {
          "output_type": "execute_result",
          "data": {
            "text/plain": [
              "6"
            ]
          },
          "metadata": {},
          "execution_count": 8
        }
      ]
    },
    {
      "cell_type": "markdown",
      "source": [
        "### 2. Access data from a dictionary"
      ],
      "metadata": {
        "id": "zW6IvmRC1RlG"
      }
    },
    {
      "cell_type": "code",
      "source": [
        "dct[4]"
      ],
      "metadata": {
        "id": "YdfEYiiW1Qd1",
        "colab": {
          "base_uri": "https://localhost:8080/"
        },
        "outputId": "1ab53507-e580-46d7-eb99-70d0e7d22eaf"
      },
      "execution_count": 13,
      "outputs": [
        {
          "output_type": "execute_result",
          "data": {
            "text/plain": [
              "23"
            ]
          },
          "metadata": {},
          "execution_count": 13
        }
      ]
    },
    {
      "cell_type": "code",
      "source": [
        "dct.keys()"
      ],
      "metadata": {
        "colab": {
          "base_uri": "https://localhost:8080/"
        },
        "id": "QRzDoaSMUhw4",
        "outputId": "69ed2788-2596-454d-9076-61c5848ec47c"
      },
      "execution_count": 14,
      "outputs": [
        {
          "output_type": "execute_result",
          "data": {
            "text/plain": [
              "dict_keys([1, 2, 3, 4, 'a', False])"
            ]
          },
          "metadata": {},
          "execution_count": 14
        }
      ]
    },
    {
      "cell_type": "code",
      "source": [
        "dct.values()"
      ],
      "metadata": {
        "colab": {
          "base_uri": "https://localhost:8080/"
        },
        "id": "HZ0MvPleUnnm",
        "outputId": "07fff5d2-cdf0-485d-81d9-35fdf5ec7344"
      },
      "execution_count": 15,
      "outputs": [
        {
          "output_type": "execute_result",
          "data": {
            "text/plain": [
              "dict_values(['Arya', 'Avneet', 'Riya', 23, 'Aman', '23'])"
            ]
          },
          "metadata": {},
          "execution_count": 15
        }
      ]
    },
    {
      "cell_type": "markdown",
      "source": [
        "### 3. Add Data in a Dictionary"
      ],
      "metadata": {
        "id": "IQ02gAeH1U8h"
      }
    },
    {
      "cell_type": "code",
      "source": [
        "dct"
      ],
      "metadata": {
        "id": "QcN_6vnT0F02",
        "colab": {
          "base_uri": "https://localhost:8080/"
        },
        "outputId": "1a49ad55-6200-42a3-ba4e-8474b5e547f2"
      },
      "execution_count": 16,
      "outputs": [
        {
          "output_type": "execute_result",
          "data": {
            "text/plain": [
              "{1: 'Arya', 2: 'Avneet', 3: 'Riya', 4: 23, 'a': 'Aman', False: '23'}"
            ]
          },
          "metadata": {},
          "execution_count": 16
        }
      ]
    },
    {
      "cell_type": "code",
      "source": [
        "dct[5]= \"Ashish\"\n",
        "dct"
      ],
      "metadata": {
        "colab": {
          "base_uri": "https://localhost:8080/"
        },
        "id": "dGFfuhqgU27q",
        "outputId": "a7cfba73-5ace-4ad9-a916-26dd26f3ef7e"
      },
      "execution_count": 17,
      "outputs": [
        {
          "output_type": "execute_result",
          "data": {
            "text/plain": [
              "{1: 'Arya',\n",
              " 2: 'Avneet',\n",
              " 3: 'Riya',\n",
              " 4: 23,\n",
              " 'a': 'Aman',\n",
              " False: '23',\n",
              " 5: 'Ashish'}"
            ]
          },
          "metadata": {},
          "execution_count": 17
        }
      ]
    },
    {
      "cell_type": "markdown",
      "source": [
        "### 4. Delete data"
      ],
      "metadata": {
        "id": "_QmkaiP22qqt"
      }
    },
    {
      "cell_type": "code",
      "source": [
        "del dct[5]"
      ],
      "metadata": {
        "id": "3zs0_x_R1D8X"
      },
      "execution_count": 18,
      "outputs": []
    },
    {
      "cell_type": "code",
      "source": [
        "dct"
      ],
      "metadata": {
        "colab": {
          "base_uri": "https://localhost:8080/"
        },
        "id": "7P_tSY85VG_6",
        "outputId": "3f58343c-1372-4090-b6e4-8b6b688eab4b"
      },
      "execution_count": 19,
      "outputs": [
        {
          "output_type": "execute_result",
          "data": {
            "text/plain": [
              "{1: 'Arya', 2: 'Avneet', 3: 'Riya', 4: 23, 'a': 'Aman', False: '23'}"
            ]
          },
          "metadata": {},
          "execution_count": 19
        }
      ]
    },
    {
      "cell_type": "markdown",
      "source": [
        "### 5. Access data using keys"
      ],
      "metadata": {
        "id": "qQzswDONBa__"
      }
    },
    {
      "cell_type": "code",
      "source": [],
      "metadata": {
        "id": "kI0DMFYyBh4p"
      },
      "execution_count": null,
      "outputs": []
    },
    {
      "cell_type": "code",
      "source": [],
      "metadata": {
        "id": "1o0LPJsLVQfd"
      },
      "execution_count": null,
      "outputs": []
    },
    {
      "cell_type": "markdown",
      "source": [
        "### 5. Write a program\n",
        "\n",
        "- Add name of 5 users in a dictionary wrt roll_number\n",
        "- Find the name of roll_no 3\n",
        "- Find the roll_no of Sakshi\n",
        "- Find Roll_no.\n",
        "Name :\n",
        "Total_MArks :\n",
        "Avg :\n",
        "Grade :\n",
        "- Update dictionary with grade"
      ],
      "metadata": {
        "id": "gKXq_bkM24tT"
      }
    },
    {
      "cell_type": "code",
      "source": [
        "dct = {}\n",
        "for i in range(1,6):\n",
        "  dct[i] = input(\"Enter name for roll no \" + str(i))\n",
        "print(dct)"
      ],
      "metadata": {
        "colab": {
          "base_uri": "https://localhost:8080/"
        },
        "id": "0hcH5g9LVVwb",
        "outputId": "d355f291-9b3e-4793-ed06-126903a25c32"
      },
      "execution_count": 26,
      "outputs": [
        {
          "output_type": "stream",
          "name": "stdout",
          "text": [
            "Enter name for roll no 1a\n",
            "Enter name for roll no 2b\n",
            "Enter name for roll no 3x\n",
            "Enter name for roll no 4f\n",
            "Enter name for roll no 5g\n",
            "{1: 'a', 2: 'b', 3: 'x', 4: 'f', 5: 'g'}\n"
          ]
        }
      ]
    },
    {
      "cell_type": "code",
      "source": [
        "dct"
      ],
      "metadata": {
        "id": "JFMBoe6i6Nej",
        "colab": {
          "base_uri": "https://localhost:8080/"
        },
        "outputId": "ef3aa8a1-bd12-4cb9-8cda-d1c2c6cba696"
      },
      "execution_count": 27,
      "outputs": [
        {
          "output_type": "execute_result",
          "data": {
            "text/plain": [
              "{1: 'a', 2: 'b', 3: 'x', 4: 'f', 5: 'g'}"
            ]
          },
          "metadata": {},
          "execution_count": 27
        }
      ]
    },
    {
      "cell_type": "code",
      "source": [
        "dct[4] = \"Sakshi\"\n"
      ],
      "metadata": {
        "id": "ob1W5wm96OX2"
      },
      "execution_count": 28,
      "outputs": []
    },
    {
      "cell_type": "code",
      "source": [
        "dct"
      ],
      "metadata": {
        "id": "4zr9XT6bAH9I",
        "colab": {
          "base_uri": "https://localhost:8080/"
        },
        "outputId": "cb739a74-0cef-44ec-d158-a9c0ba8dd289"
      },
      "execution_count": 29,
      "outputs": [
        {
          "output_type": "execute_result",
          "data": {
            "text/plain": [
              "{1: 'a', 2: 'b', 3: 'x', 4: 'Sakshi', 5: 'g'}"
            ]
          },
          "metadata": {},
          "execution_count": 29
        }
      ]
    },
    {
      "cell_type": "code",
      "source": [
        "dct[6]= \"Sakshi\""
      ],
      "metadata": {
        "id": "5JVoSv5JAI78"
      },
      "execution_count": 37,
      "outputs": []
    },
    {
      "cell_type": "code",
      "source": [
        "dct.keys()"
      ],
      "metadata": {
        "colab": {
          "base_uri": "https://localhost:8080/"
        },
        "id": "hqy-PPNMXg0A",
        "outputId": "5a6b8a24-f710-4438-bdae-5be91b72b592"
      },
      "execution_count": 38,
      "outputs": [
        {
          "output_type": "execute_result",
          "data": {
            "text/plain": [
              "dict_keys([1, 2, 3, 4, 5, 6])"
            ]
          },
          "metadata": {},
          "execution_count": 38
        }
      ]
    },
    {
      "cell_type": "code",
      "source": [
        "for i in dct.keys():\n",
        "  if(dct[i] == \"Sakshi\"):\n",
        "    print(i,dct[i])"
      ],
      "metadata": {
        "colab": {
          "base_uri": "https://localhost:8080/"
        },
        "id": "H0lPzDB9Xg28",
        "outputId": "b8399fd3-d808-4234-88b4-10af56d31aa2"
      },
      "execution_count": 40,
      "outputs": [
        {
          "output_type": "stream",
          "name": "stdout",
          "text": [
            "4 Sakshi\n",
            "6 Sakshi\n"
          ]
        }
      ]
    },
    {
      "cell_type": "code",
      "source": [
        "data = {1 : {'name' : 'Ashish', 'english' : 54, 'math': 60, 'science': 70, 'phone_no' : 61294621},\n",
        "        2 : {'name' : 'Sakshi', 'english' : 33, 'math': 75, 'science': 85, 'phone_no' : 823758937},\n",
        "        3 : {'name' : 'Avneet', 'english' : 23, 'math': 70, 'science': 80, 'phone_no' : 823758937}\n",
        "        }"
      ],
      "metadata": {
        "id": "VMPmgNkaXg5w"
      },
      "execution_count": 53,
      "outputs": []
    },
    {
      "cell_type": "code",
      "source": [
        "len(data)"
      ],
      "metadata": {
        "colab": {
          "base_uri": "https://localhost:8080/"
        },
        "id": "mxCDxJddXg8Z",
        "outputId": "b55be524-ec94-4550-ba1a-f28c12b36168"
      },
      "execution_count": 42,
      "outputs": [
        {
          "output_type": "execute_result",
          "data": {
            "text/plain": [
              "1"
            ]
          },
          "metadata": {},
          "execution_count": 42
        }
      ]
    },
    {
      "cell_type": "code",
      "source": [
        "for i in data.keys():\n",
        "  print(data[i][\"name\"])"
      ],
      "metadata": {
        "colab": {
          "base_uri": "https://localhost:8080/"
        },
        "id": "oBlpXF_GXg_0",
        "outputId": "c496a294-e63b-4a62-d26c-44dda692174e"
      },
      "execution_count": 54,
      "outputs": [
        {
          "output_type": "stream",
          "name": "stdout",
          "text": [
            "Ashish\n",
            "Sakshi\n",
            "Avneet\n"
          ]
        }
      ]
    },
    {
      "cell_type": "code",
      "source": [
        "data = {1 : {'name' : 'Ashish', 'english' : 54, 'math': 60, 'science': 70, 'phone_no' : 61294621},\n",
        "        2 : {'name' : 'Sakshi', 'english' : 33, 'math': 75, 'science': 85, 'phone_no' : 823758937}}"
      ],
      "metadata": {
        "id": "VlhZdM-V5xkY"
      },
      "execution_count": null,
      "outputs": []
    }
  ]
}