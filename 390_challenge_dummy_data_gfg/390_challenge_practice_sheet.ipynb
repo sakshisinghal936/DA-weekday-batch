{
  "nbformat": 4,
  "nbformat_minor": 0,
  "metadata": {
    "colab": {
      "provenance": []
    },
    "kernelspec": {
      "name": "python3",
      "display_name": "Python 3"
    },
    "language_info": {
      "name": "python"
    }
  },
  "cells": [
    {
      "cell_type": "markdown",
      "source": [
        "#  Analysis for the Three 90 Challenge\n",
        "\n",
        "## 1️⃣ Student Performance Overview\n",
        "### 1.1 Course Completion Distribution\n",
        "- **Visualization:** Bar Chart / Pie Chart  \n",
        "- **Insights:** Categorize students based on completion percentage (0-50%, 50-90%, 90-100%)  \n",
        "- Identify how many students have reached the 90% completion mark required for a refund.  \n",
        "\n",
        "### 1.2 Refund Eligibility Breakdown\n",
        "- **Visualization:** Donut Chart / Stacked Bar Chart  \n",
        "- **Insights:** Show the percentage of students eligible for refunds vs. those who aren’t.  \n",
        "- Find out why students are not eligible (e.g., low completion, missing quizzes).  \n",
        "\n",
        "### 1.3 Final Project Completion Rate\n",
        "- **Visualization:** Pie Chart  \n",
        "- **Insights:** Compare the number of students who completed the final project vs. those who didn’t.  \n",
        "- Analyze if project completion impacts refund eligibility.  \n",
        "\n",
        "## 2️⃣ Engagement Analysis\n",
        "### 2.1 Hours Spent Weekly vs. Completion Percentage\n",
        "- **Visualization:** Line Chart / Scatter Plot  \n",
        "- **Insights:** Do students who spend more weekly hours have higher completion rates?  \n",
        "- Find an optimal study time for maximum course completion.  \n",
        "\n",
        "### 2.2 Daily Practice Problems vs. Weekly Assessment Scores\n",
        "- **Visualization:** Scatter Plot / Correlation Matrix  \n",
        "- **Insights:** Does solving more daily practice problems lead to higher assessment scores?  \n",
        "- Identify students who practice daily but still score low (need extra support).  \n",
        "\n",
        "### 2.3 Community Participation vs. Performance\n",
        "- **Visualization:** Bar Chart / Box Plot  \n",
        "- **Insights:** Do students who actively participate in community discussions perform better?  \n",
        "- Compare assessment scores of active vs. non-active participants.  \n",
        "\n",
        "## 3️⃣ Mentor Support Impact\n",
        "### 3.1 Mentor-Supported vs. Non-Supported Performance\n",
        "- **Visualization:** Box Plot / Stacked Bar Chart  \n",
        "- **Insights:** Compare assessment scores and completion rates of students who used mentor support vs. those who didn’t.  \n",
        "- Measure the impact of mentor interactions on performance.  \n",
        "\n",
        "### 3.2 Improvement Rate with Mentor Support\n",
        "- **Visualization:** Line Chart  \n",
        "- **Insights:** Track progress over time for students using mentor support.  \n",
        "- Identify if mentor support is most effective in the first, middle, or last phase of the course.  \n",
        "\n",
        "## 4️⃣ Refund Eligibility Insights\n",
        "### 4.1 Refund Eligibility by Performance Metrics\n",
        "- **Visualization:** Stacked Bar Chart  \n",
        "- **Insights:** Compare refund eligibility across different performance categories (e.g., high scores vs. low scores).  \n",
        "- Identify common reasons why students miss refund eligibility.  \n",
        "\n",
        "### 4.2 Refund Success Rate by Payment Amount\n",
        "- **Visualization:** Histogram  \n",
        "- **Insights:** Are students who paid more money more likely to complete the course and get a refund?  \n",
        "- Identify if lower-cost course students are dropping out more.  \n",
        "\n",
        "## 5️⃣ Payment & Student Commitment\n",
        "### 5.1 Payment Amount vs. Refund Eligibility\n",
        "- **Visualization:** Box Plot / Violin Plot  \n",
        "- **Insights:** Do higher-paying students have a higher completion rate?  \n",
        "- Check if refunds are more common among lower-cost or premium course students.  \n",
        "\n",
        "## 6️⃣ Assessment & Quiz Performance Trends\n",
        "### 6.1 Weekly Assessment Score Trends\n",
        "- **Visualization:** Line Chart  \n",
        "- **Insights:** Are students improving over time, or are scores stagnant?  \n",
        "- Find common weeks where scores drop (to adjust course structure).  \n",
        "\n",
        "### 6.2 Quizzes Attempted vs. Final Scores\n",
        "- **Visualization:** Scatter Plot  \n",
        "- **Insights:** Does attempting more quizzes correlate with higher final scores?  \n",
        "- Identify if some students perform well despite fewer quiz attempts.  \n",
        "\n",
        "## 7️⃣ Leaderboard & Risk Analysis\n",
        "### 7.1 Top 10 Performers Leaderboard\n",
        "- **Visualization:** Leaderboard Table / Bar Chart  \n",
        "- **Insights:** Display top 10 students based on completion, assessments, and quiz scores.  \n",
        "- Recognize high achievers for motivation.  \n",
        "\n",
        "### 7.2 At-Risk Students Analysis\n",
        "- **Visualization:** Scatter Plot / Heatmap  \n",
        "- **Insights:** Identify students with low engagement, low completion, and poor assessment scores.  \n",
        "- Suggest interventions like extra mentor support or personalized guidance.  "
      ],
      "metadata": {
        "id": "bKi8UaexgIvG"
      }
    },
    {
      "cell_type": "code",
      "execution_count": null,
      "metadata": {
        "id": "6MCFcLNggILz"
      },
      "outputs": [],
      "source": []
    },
    {
      "cell_type": "markdown",
      "source": [],
      "metadata": {
        "id": "-eBzqbdegKG6"
      }
    }
  ]
}