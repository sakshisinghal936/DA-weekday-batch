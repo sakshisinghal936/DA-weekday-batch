{
  "nbformat": 4,
  "nbformat_minor": 0,
  "metadata": {
    "colab": {
      "provenance": [],
      "authorship_tag": "ABX9TyN3PZ2mfnEx9fVhH1Xd5GJm",
      "include_colab_link": true
    },
    "kernelspec": {
      "name": "python3",
      "display_name": "Python 3"
    },
    "language_info": {
      "name": "python"
    }
  },
  "cells": [
    {
      "cell_type": "markdown",
      "metadata": {
        "id": "view-in-github",
        "colab_type": "text"
      },
      "source": [
        "<a href=\"https://colab.research.google.com/github/sakshisinghal936/DA-weekday-batch/blob/main/Conditions_class18.ipynb\" target=\"_parent\"><img src=\"https://colab.research.google.com/assets/colab-badge.svg\" alt=\"Open In Colab\"/></a>"
      ]
    },
    {
      "cell_type": "markdown",
      "source": [
        "### 1. Varaibles & Assignment"
      ],
      "metadata": {
        "id": "2mBUjoddu65m"
      }
    },
    {
      "cell_type": "code",
      "execution_count": 48,
      "metadata": {
        "id": "Up6Rirbcu6PW"
      },
      "outputs": [],
      "source": [
        "a = 10"
      ]
    },
    {
      "cell_type": "code",
      "source": [
        "print(a)\n",
        "print(a+10)\n",
        "print(a*10)\n",
        "print(\"a\"+\"sakshi\")"
      ],
      "metadata": {
        "colab": {
          "base_uri": "https://localhost:8080/"
        },
        "id": "ys5gMZL8Ntyg",
        "outputId": "9a57a5d8-4b13-4b23-a68b-d12362eebb66"
      },
      "execution_count": 50,
      "outputs": [
        {
          "output_type": "stream",
          "name": "stdout",
          "text": [
            "10\n",
            "20\n",
            "100\n",
            "asakshi\n"
          ]
        }
      ]
    },
    {
      "cell_type": "code",
      "source": [
        "\"a\""
      ],
      "metadata": {
        "colab": {
          "base_uri": "https://localhost:8080/",
          "height": 35
        },
        "id": "JMoCG2C0OQ-2",
        "outputId": "60298e67-09c8-4923-e1f6-6339b833457a"
      },
      "execution_count": 51,
      "outputs": [
        {
          "output_type": "execute_result",
          "data": {
            "text/plain": [
              "'a'"
            ],
            "application/vnd.google.colaboratory.intrinsic+json": {
              "type": "string"
            }
          },
          "metadata": {},
          "execution_count": 51
        }
      ]
    },
    {
      "cell_type": "code",
      "source": [
        "n = int(input(\"Enter a number:\" ))\n",
        "print(n)"
      ],
      "metadata": {
        "colab": {
          "base_uri": "https://localhost:8080/"
        },
        "id": "U9IBd0MTOuLt",
        "outputId": "ffd1d1c0-db23-4a75-c66e-01c7165a7aa4"
      },
      "execution_count": 61,
      "outputs": [
        {
          "output_type": "stream",
          "name": "stdout",
          "text": [
            "Enter a number:24\n",
            "24\n"
          ]
        }
      ]
    },
    {
      "cell_type": "code",
      "source": [
        "print(n)"
      ],
      "metadata": {
        "colab": {
          "base_uri": "https://localhost:8080/"
        },
        "id": "RgteQLQMPHdt",
        "outputId": "ae6d4014-e36e-446d-a387-782f8525e3aa"
      },
      "execution_count": 58,
      "outputs": [
        {
          "output_type": "stream",
          "name": "stdout",
          "text": [
            "5\n"
          ]
        }
      ]
    },
    {
      "cell_type": "code",
      "source": [
        "print(n+20)"
      ],
      "metadata": {
        "colab": {
          "base_uri": "https://localhost:8080/"
        },
        "id": "GfhWCuZOPi2L",
        "outputId": "d409e138-33c9-43c1-8146-79fa84bd9313"
      },
      "execution_count": 62,
      "outputs": [
        {
          "output_type": "stream",
          "name": "stdout",
          "text": [
            "44\n"
          ]
        }
      ]
    },
    {
      "cell_type": "code",
      "source": [],
      "metadata": {
        "id": "h38JrvOFPMqs"
      },
      "execution_count": null,
      "outputs": []
    },
    {
      "cell_type": "markdown",
      "source": [
        "- Simple Interest\n",
        "- Compound interest (total amount)\n",
        "- Volume of Sphere"
      ],
      "metadata": {
        "id": "u-0paoAjyM4c"
      }
    },
    {
      "cell_type": "code",
      "source": [
        "r = int(input(\"Enter the radius:\" ))\n",
        "\n",
        "print(\"Volume of the given sphere is\" ,(4/3) * 22/7 * r**3)"
      ],
      "metadata": {
        "colab": {
          "base_uri": "https://localhost:8080/"
        },
        "id": "bvNu_9xSRjRS",
        "outputId": "75d3e6be-91ab-449c-e11d-512651857fb1"
      },
      "execution_count": 64,
      "outputs": [
        {
          "output_type": "stream",
          "name": "stdout",
          "text": [
            "Enter the radius:3\n",
            "Volume of the given sphere is 113.14285714285715\n"
          ]
        }
      ]
    },
    {
      "cell_type": "code",
      "source": [
        "n = n + 1"
      ],
      "metadata": {
        "id": "kGrpI3PZyWSa"
      },
      "execution_count": 70,
      "outputs": []
    },
    {
      "cell_type": "code",
      "source": [
        "print(n)"
      ],
      "metadata": {
        "colab": {
          "base_uri": "https://localhost:8080/"
        },
        "id": "yll_kYXRUn1z",
        "outputId": "96da480e-d371-4f14-c88b-e7e34a754fe1"
      },
      "execution_count": 71,
      "outputs": [
        {
          "output_type": "stream",
          "name": "stdout",
          "text": [
            "25\n"
          ]
        }
      ]
    },
    {
      "cell_type": "code",
      "source": [
        "print(n * r)"
      ],
      "metadata": {
        "colab": {
          "base_uri": "https://localhost:8080/"
        },
        "id": "xhuB5wvpS4nk",
        "outputId": "80b823e2-4bfa-4c34-8d82-e3f70c1d63a5"
      },
      "execution_count": 66,
      "outputs": [
        {
          "output_type": "stream",
          "name": "stdout",
          "text": [
            "72\n"
          ]
        }
      ]
    },
    {
      "cell_type": "code",
      "source": [
        "P = int(input(\"Enter principal amount \" ))\n",
        "R = int(input(\"Enter rate \" ))\n",
        "T = int(input(\"Enter time in years \" ))\n",
        "\n",
        "print(\"Simple Interest \" , P*R*T/100)"
      ],
      "metadata": {
        "colab": {
          "base_uri": "https://localhost:8080/"
        },
        "id": "-iK5_iY-Tc6J",
        "outputId": "e3347112-5264-4124-be7d-89f44b680292"
      },
      "execution_count": 67,
      "outputs": [
        {
          "output_type": "stream",
          "name": "stdout",
          "text": [
            "Enter principal amount 8\n",
            "Enter rate 9\n",
            "Enter time in years 4\n",
            "Simple Interest  2.88\n"
          ]
        }
      ]
    },
    {
      "cell_type": "code",
      "source": [
        "print(n)"
      ],
      "metadata": {
        "colab": {
          "base_uri": "https://localhost:8080/"
        },
        "id": "J9FmJByIUXH6",
        "outputId": "57d103bd-c170-44c6-c3d9-a11f18679cc7"
      },
      "execution_count": 68,
      "outputs": [
        {
          "output_type": "stream",
          "name": "stdout",
          "text": [
            "24\n"
          ]
        }
      ]
    },
    {
      "cell_type": "code",
      "source": [
        "x = 10\n",
        "print(x+1)\n",
        "x += 1\n",
        "print(x)\n",
        "x +=1\n",
        "print(x)\n",
        "\n",
        "x += 5\n",
        "print(x)\n",
        "\n",
        "x -=3\n",
        "print(x)"
      ],
      "metadata": {
        "colab": {
          "base_uri": "https://localhost:8080/"
        },
        "id": "zS6tP74tU80v",
        "outputId": "d5abc7c6-eb53-4689-cf9e-14359da13e79"
      },
      "execution_count": 78,
      "outputs": [
        {
          "output_type": "stream",
          "name": "stdout",
          "text": [
            "11\n",
            "11\n",
            "12\n",
            "17\n",
            "14\n"
          ]
        }
      ]
    },
    {
      "cell_type": "code",
      "source": [
        "x *=3\n",
        "print(x)\n",
        "\n",
        "x /= 2\n",
        "print(x)"
      ],
      "metadata": {
        "colab": {
          "base_uri": "https://localhost:8080/"
        },
        "id": "L4pgkbiFV6dE",
        "outputId": "5b9e6432-133c-4d79-85d2-491f9400820d"
      },
      "execution_count": 79,
      "outputs": [
        {
          "output_type": "stream",
          "name": "stdout",
          "text": [
            "42\n",
            "21.0\n"
          ]
        }
      ]
    },
    {
      "cell_type": "code",
      "source": [
        "x *=3\n",
        "print(x)\n",
        "\n",
        "x /= 2\n",
        "print(x)"
      ],
      "metadata": {
        "colab": {
          "base_uri": "https://localhost:8080/"
        },
        "id": "RHogRrxyWaZv",
        "outputId": "d48dfd5c-e388-40d6-87a0-a286be98f9f1"
      },
      "execution_count": 80,
      "outputs": [
        {
          "output_type": "stream",
          "name": "stdout",
          "text": [
            "63.0\n",
            "31.5\n"
          ]
        }
      ]
    },
    {
      "cell_type": "markdown",
      "source": [
        "### 2. Operators"
      ],
      "metadata": {
        "id": "1AMpizSbu-a5"
      }
    },
    {
      "cell_type": "code",
      "source": [
        "age  = 15\n",
        "\n",
        "print(age >12 and age <14)\n",
        "print(age>18)"
      ],
      "metadata": {
        "id": "mWiwLeP-vAbW",
        "colab": {
          "base_uri": "https://localhost:8080/"
        },
        "outputId": "97cb15aa-071f-4ade-a895-afab2c581c66"
      },
      "execution_count": 83,
      "outputs": [
        {
          "output_type": "stream",
          "name": "stdout",
          "text": [
            "False\n",
            "False\n"
          ]
        }
      ]
    },
    {
      "cell_type": "markdown",
      "source": [
        "### 3. Conditions"
      ],
      "metadata": {
        "id": "vcUrmEwTvB9b"
      }
    },
    {
      "cell_type": "markdown",
      "source": [
        "- Check if a number is even or odd\n",
        "- Check if a number is positive, negative, or zero\n",
        "- Determine a person's stage of life (child, teen, adult, senior) based on age\n",
        "- Check if a password meets length criteria (at least 8 characters)\n",
        "- Check if a number is positive, and if so, whether it's even or odd\n",
        "- Check if a number is divisible by both 3 and 5\n",
        "- If a number is even, check if it is also divisible by 4."
      ],
      "metadata": {
        "id": "MDT4EQFi3gqN"
      }
    },
    {
      "cell_type": "markdown",
      "source": [
        "#### 3.1) if"
      ],
      "metadata": {
        "id": "xWNVd2VrvK5i"
      }
    },
    {
      "cell_type": "code",
      "source": [
        "age = 19\n",
        "\n",
        "if(age>18):\n",
        "  print(\"Valid age\")\n",
        "  print(\"Sakshi Singhal\")\n",
        "print(\"Sakshi\")"
      ],
      "metadata": {
        "id": "Iu1vpRxtvDOl"
      },
      "execution_count": null,
      "outputs": []
    },
    {
      "cell_type": "code",
      "source": [
        "age = 18\n",
        "if(age>=18):\n",
        "  print(\"Val\")\n",
        "if(age<18):\n",
        "  print(\"Not val\")"
      ],
      "metadata": {
        "colab": {
          "base_uri": "https://localhost:8080/"
        },
        "id": "S1DwwTwDYab9",
        "outputId": "55c7c6ce-7e87-42d8-9c21-2637c496a8de"
      },
      "execution_count": 99,
      "outputs": [
        {
          "output_type": "stream",
          "name": "stdout",
          "text": [
            "Val\n"
          ]
        }
      ]
    },
    {
      "cell_type": "markdown",
      "source": [
        "#### 3.2) if-else"
      ],
      "metadata": {
        "id": "BAuVY1apvECT"
      }
    },
    {
      "cell_type": "code",
      "source": [
        "age = 120\n",
        "if(age>=18):\n",
        "  print(\"Val\")\n",
        "else:\n",
        "  print(\"Not val\")"
      ],
      "metadata": {
        "colab": {
          "base_uri": "https://localhost:8080/"
        },
        "id": "CYYO7boeZz-x",
        "outputId": "75c096b8-e66f-476c-c8b0-ccb82e7def3e"
      },
      "execution_count": 103,
      "outputs": [
        {
          "output_type": "stream",
          "name": "stdout",
          "text": [
            "Val\n"
          ]
        }
      ]
    },
    {
      "cell_type": "code",
      "source": [
        "age = -100\n",
        "if(age>=18):\n",
        "  if(age<100):\n",
        "    print(\"Valid age\")\n",
        "  else:\n",
        "    print(\"Data is not correct\")\n",
        "else:\n",
        "  if(age>0):\n",
        "    print(\"Not valid\")\n",
        "  else:\n",
        "     print(\"Data is not correct\")\n"
      ],
      "metadata": {
        "id": "0Dl_hffovKBG",
        "colab": {
          "base_uri": "https://localhost:8080/"
        },
        "outputId": "42960fc1-2a9b-4fd6-e29b-84a773bcd5fe"
      },
      "execution_count": 112,
      "outputs": [
        {
          "output_type": "stream",
          "name": "stdout",
          "text": [
            "Data is not correct\n"
          ]
        }
      ]
    },
    {
      "cell_type": "code",
      "source": [
        "age= 12\n",
        "if(age>=18):\n",
        "  print(\"Valid Data\")\n",
        "else:\n",
        "  print(\"Not Valid\")"
      ],
      "metadata": {
        "colab": {
          "base_uri": "https://localhost:8080/",
          "height": 106
        },
        "id": "msQn8TCqio4X",
        "outputId": "9fd09937-1178-4118-e379-bd144f311e51"
      },
      "execution_count": 116,
      "outputs": [
        {
          "output_type": "error",
          "ename": "SyntaxError",
          "evalue": "expected ':' (<ipython-input-116-b6e3b1ec1a66>, line 4)",
          "traceback": [
            "\u001b[0;36m  File \u001b[0;32m\"<ipython-input-116-b6e3b1ec1a66>\"\u001b[0;36m, line \u001b[0;32m4\u001b[0m\n\u001b[0;31m    else(age<18):\u001b[0m\n\u001b[0m        ^\u001b[0m\n\u001b[0;31mSyntaxError\u001b[0m\u001b[0;31m:\u001b[0m expected ':'\n"
          ]
        }
      ]
    },
    {
      "cell_type": "markdown",
      "source": [
        "#### 3.3) if-elif"
      ],
      "metadata": {
        "id": "wUbMNLJbvRE-"
      }
    },
    {
      "cell_type": "code",
      "source": [
        "age = 12\n",
        "if(age<-100):\n",
        "  print(\"Data is incorrect\")\n",
        "elif(age<=18):\n",
        "  print(\" not valid\")\n",
        "elif(age<100):\n",
        "  print(\"Valid age\")\n",
        "else:\n",
        "  print(\"Data is incorrect\")\n",
        "\n"
      ],
      "metadata": {
        "id": "1EdwIESUvV_w",
        "colab": {
          "base_uri": "https://localhost:8080/"
        },
        "outputId": "c3fda247-0749-41aa-8e5a-ead95d96f61d"
      },
      "execution_count": 118,
      "outputs": [
        {
          "output_type": "stream",
          "name": "stdout",
          "text": [
            " not valid\n"
          ]
        }
      ]
    },
    {
      "cell_type": "code",
      "source": [
        "age = 12\n",
        "if(age<-100):\n",
        "  print(\"Data is incorrect\")\n",
        "elif(age<100):\n",
        "  print(\"Valid age\")\n",
        "elif(age<=18):\n",
        "  print(\" not valid\")\n",
        "else:\n",
        "  print(\"Data is incorrect\")"
      ],
      "metadata": {
        "colab": {
          "base_uri": "https://localhost:8080/"
        },
        "id": "TCA7_C-TjdQW",
        "outputId": "f217f62f-b9b6-4e49-d7d6-bba1b9e4030d"
      },
      "execution_count": 119,
      "outputs": [
        {
          "output_type": "stream",
          "name": "stdout",
          "text": [
            "Valid age\n"
          ]
        }
      ]
    },
    {
      "cell_type": "markdown",
      "source": [
        "#### 3.4) if-elif-else"
      ],
      "metadata": {
        "id": "61q7itpnvX0U"
      }
    },
    {
      "cell_type": "code",
      "source": [],
      "metadata": {
        "id": "4enWdCcAvZGN"
      },
      "execution_count": null,
      "outputs": []
    },
    {
      "cell_type": "markdown",
      "source": [
        "#### 3.5) nested if"
      ],
      "metadata": {
        "id": "jFRdb1NnvZ09"
      }
    },
    {
      "cell_type": "code",
      "source": [],
      "metadata": {
        "id": "tAN94sG5vbgy"
      },
      "execution_count": null,
      "outputs": []
    },
    {
      "cell_type": "markdown",
      "source": [
        "#### 3.6) nested if-else with logical operators"
      ],
      "metadata": {
        "id": "97dYnHORveBR"
      }
    },
    {
      "cell_type": "code",
      "source": [
        "age = 15\n",
        "if(age>0 and age<18):\n",
        "  print(\"not valid\")\n",
        "elif(age>=18 and age<100):\n",
        "  print(\"Valid age\")\n",
        "else:\n",
        "  print(\"Data is not correct\")"
      ],
      "metadata": {
        "id": "JO6GW1dkvjx1",
        "colab": {
          "base_uri": "https://localhost:8080/"
        },
        "outputId": "ce3f13b8-43e3-4634-98d8-f543562697c8"
      },
      "execution_count": 121,
      "outputs": [
        {
          "output_type": "stream",
          "name": "stdout",
          "text": [
            "not valid\n"
          ]
        }
      ]
    },
    {
      "cell_type": "markdown",
      "source": [
        "### 4. Loops"
      ],
      "metadata": {
        "id": "6QVLc77yyvTi"
      }
    },
    {
      "cell_type": "markdown",
      "source": [
        "- table of a number\n",
        "- table of number with range\n",
        "- table of number in reverse\n",
        "- sum of n natural numbers\n",
        "- product of n natural numbers\n",
        "- sample space if you're rolling 2 dices"
      ],
      "metadata": {
        "id": "7oOs8VRQ0U4n"
      }
    },
    {
      "cell_type": "code",
      "source": [],
      "metadata": {
        "id": "tk53tRWCv8T9"
      },
      "execution_count": null,
      "outputs": []
    }
  ]
}